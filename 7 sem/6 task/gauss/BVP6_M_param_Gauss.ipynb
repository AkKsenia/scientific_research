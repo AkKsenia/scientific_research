{
 "cells": [
  {
   "cell_type": "code",
   "execution_count": 1,
   "metadata": {
    "colab": {
     "base_uri": "https://localhost:8080/"
    },
    "id": "WwoNTKgegwqv",
    "outputId": "e40b1fd8-d5b5-4ba3-850a-3ac35d77b07f"
   },
   "outputs": [
    {
     "name": "stdout",
     "output_type": "stream",
     "text": [
      "Requirement already satisfied: DeepXDE in /opt/conda/lib/python3.8/site-packages (1.10.1)\n",
      "Requirement already satisfied: scipy in /opt/conda/lib/python3.8/site-packages (from DeepXDE) (1.5.3)\n",
      "Requirement already satisfied: scikit-learn in /opt/conda/lib/python3.8/site-packages (from DeepXDE) (1.3.2)\n",
      "Requirement already satisfied: matplotlib in /opt/conda/lib/python3.8/site-packages (from DeepXDE) (3.3.4)\n",
      "Requirement already satisfied: scikit-optimize>=0.9.0 in /opt/conda/lib/python3.8/site-packages (from DeepXDE) (0.10.2)\n",
      "Requirement already satisfied: numpy in /opt/conda/lib/python3.8/site-packages (from DeepXDE) (1.24.4)\n",
      "Requirement already satisfied: packaging>=21.3 in /opt/conda/lib/python3.8/site-packages (from scikit-optimize>=0.9.0->DeepXDE) (24.1)\n",
      "Requirement already satisfied: joblib>=0.11 in /opt/conda/lib/python3.8/site-packages (from scikit-optimize>=0.9.0->DeepXDE) (1.4.2)\n",
      "Requirement already satisfied: pyaml>=16.9 in /opt/conda/lib/python3.8/site-packages (from scikit-optimize>=0.9.0->DeepXDE) (24.9.0)\n",
      "Requirement already satisfied: PyYAML in /opt/conda/lib/python3.8/site-packages (from pyaml>=16.9->scikit-optimize>=0.9.0->DeepXDE) (5.4.1)\n",
      "Requirement already satisfied: threadpoolctl>=2.0.0 in /opt/conda/lib/python3.8/site-packages (from scikit-learn->DeepXDE) (2.1.0)\n",
      "Requirement already satisfied: cycler>=0.10 in /opt/conda/lib/python3.8/site-packages (from matplotlib->DeepXDE) (0.10.0)\n",
      "Requirement already satisfied: python-dateutil>=2.1 in /opt/conda/lib/python3.8/site-packages (from matplotlib->DeepXDE) (2.8.1)\n",
      "Requirement already satisfied: pyparsing!=2.0.4,!=2.1.2,!=2.1.6,>=2.0.3 in /opt/conda/lib/python3.8/site-packages (from matplotlib->DeepXDE) (2.4.7)\n",
      "Requirement already satisfied: pillow>=6.2.0 in /opt/conda/lib/python3.8/site-packages (from matplotlib->DeepXDE) (8.1.2)\n",
      "Requirement already satisfied: kiwisolver>=1.0.1 in /opt/conda/lib/python3.8/site-packages (from matplotlib->DeepXDE) (1.3.1)\n",
      "Requirement already satisfied: six in /opt/conda/lib/python3.8/site-packages (from cycler>=0.10->matplotlib->DeepXDE) (1.15.0)\n"
     ]
    }
   ],
   "source": [
    "!pip install DeepXDE"
   ]
  },
  {
   "cell_type": "code",
   "execution_count": 2,
   "metadata": {},
   "outputs": [
    {
     "name": "stdout",
     "output_type": "stream",
     "text": [
      "Requirement already satisfied: pyarrow in /opt/conda/lib/python3.8/site-packages (17.0.0)\r\n",
      "Requirement already satisfied: numpy>=1.16.6 in /opt/conda/lib/python3.8/site-packages (from pyarrow) (1.24.4)\r\n"
     ]
    }
   ],
   "source": [
    "!pip install pyarrow"
   ]
  },
  {
   "cell_type": "code",
   "execution_count": 3,
   "metadata": {},
   "outputs": [
    {
     "name": "stdout",
     "output_type": "stream",
     "text": [
      "Requirement already satisfied: torch in /opt/conda/lib/python3.8/site-packages (2.4.1)\n",
      "Requirement already satisfied: nvidia-cublas-cu12==12.1.3.1 in /opt/conda/lib/python3.8/site-packages (from torch) (12.1.3.1)\n",
      "Requirement already satisfied: nvidia-curand-cu12==10.3.2.106 in /opt/conda/lib/python3.8/site-packages (from torch) (10.3.2.106)\n",
      "Requirement already satisfied: nvidia-cusparse-cu12==12.1.0.106 in /opt/conda/lib/python3.8/site-packages (from torch) (12.1.0.106)\n",
      "Requirement already satisfied: nvidia-cuda-nvrtc-cu12==12.1.105 in /opt/conda/lib/python3.8/site-packages (from torch) (12.1.105)\n",
      "Requirement already satisfied: nvidia-nccl-cu12==2.20.5 in /opt/conda/lib/python3.8/site-packages (from torch) (2.20.5)\n",
      "Requirement already satisfied: nvidia-cuda-cupti-cu12==12.1.105 in /opt/conda/lib/python3.8/site-packages (from torch) (12.1.105)\n",
      "Requirement already satisfied: nvidia-cudnn-cu12==9.1.0.70 in /opt/conda/lib/python3.8/site-packages (from torch) (9.1.0.70)\n",
      "Requirement already satisfied: networkx in /opt/conda/lib/python3.8/site-packages (from torch) (2.5)\n",
      "Requirement already satisfied: nvidia-cuda-runtime-cu12==12.1.105 in /opt/conda/lib/python3.8/site-packages (from torch) (12.1.105)\n",
      "Requirement already satisfied: nvidia-cufft-cu12==11.0.2.54 in /opt/conda/lib/python3.8/site-packages (from torch) (11.0.2.54)\n",
      "Requirement already satisfied: triton==3.0.0 in /opt/conda/lib/python3.8/site-packages (from torch) (3.0.0)\n",
      "Requirement already satisfied: sympy in /opt/conda/lib/python3.8/site-packages (from torch) (1.7.1)\n",
      "Requirement already satisfied: filelock in /opt/conda/lib/python3.8/site-packages (from torch) (3.16.1)\n",
      "Requirement already satisfied: nvidia-nvtx-cu12==12.1.105 in /opt/conda/lib/python3.8/site-packages (from torch) (12.1.105)\n",
      "Requirement already satisfied: fsspec in /opt/conda/lib/python3.8/site-packages (from torch) (0.8.7)\n",
      "Requirement already satisfied: nvidia-cusolver-cu12==11.4.5.107 in /opt/conda/lib/python3.8/site-packages (from torch) (11.4.5.107)\n",
      "Requirement already satisfied: typing-extensions>=4.8.0 in /opt/conda/lib/python3.8/site-packages (from torch) (4.12.2)\n",
      "Requirement already satisfied: jinja2 in /opt/conda/lib/python3.8/site-packages (from torch) (2.11.3)\n",
      "Requirement already satisfied: nvidia-nvjitlink-cu12 in /opt/conda/lib/python3.8/site-packages (from nvidia-cusolver-cu12==11.4.5.107->torch) (12.6.77)\n",
      "Requirement already satisfied: MarkupSafe>=0.23 in /opt/conda/lib/python3.8/site-packages (from jinja2->torch) (1.1.1)\n",
      "Requirement already satisfied: decorator>=4.3.0 in /opt/conda/lib/python3.8/site-packages (from networkx->torch) (4.4.2)\n",
      "Requirement already satisfied: mpmath>=0.19 in /opt/conda/lib/python3.8/site-packages (from sympy->torch) (1.2.1)\n",
      "Note: you may need to restart the kernel to use updated packages.\n"
     ]
    }
   ],
   "source": [
    "pip install --upgrade torch"
   ]
  },
  {
   "cell_type": "code",
   "execution_count": 4,
   "metadata": {},
   "outputs": [
    {
     "name": "stdout",
     "output_type": "stream",
     "text": [
      "2.4.1+cu121\n"
     ]
    }
   ],
   "source": [
    "import torch\n",
    "print(torch.__version__)"
   ]
  },
  {
   "cell_type": "code",
   "execution_count": 5,
   "metadata": {},
   "outputs": [],
   "source": [
    "import os\n",
    "os.environ[\"DDE_BACKEND\"] = \"pytorch\""
   ]
  },
  {
   "cell_type": "code",
   "execution_count": 6,
   "metadata": {
    "colab": {
     "base_uri": "https://localhost:8080/"
    },
    "id": "PXPsEQpu4NMr",
    "outputId": "6867db5c-b115-43ff-9ea6-d7e1291b096f"
   },
   "outputs": [
    {
     "name": "stderr",
     "output_type": "stream",
     "text": [
      "Using backend: pytorch\n",
      "Other supported backends: tensorflow.compat.v1, tensorflow, jax, paddle.\n",
      "paddle supports more examples now and is recommended.\n"
     ]
    },
    {
     "name": "stdout",
     "output_type": "stream",
     "text": [
      "Set the default float type to float64\n"
     ]
    }
   ],
   "source": [
    "import numpy as np\n",
    "import deepxde as dde\n",
    "import matplotlib.pyplot as plt\n",
    "from scipy.interpolate import griddata\n",
    "import pandas as pd\n",
    "import pyarrow as pa\n",
    "import pyarrow.orc as orc\n",
    "from IPython.display import display\n",
    "dde.config.set_default_float('float64')"
   ]
  },
  {
   "cell_type": "code",
   "execution_count": 7,
   "metadata": {
    "colab": {
     "base_uri": "https://localhost:8080/"
    },
    "id": "EWhZuK4gg5kB",
    "outputId": "bb93e8ce-f7e3-4315-d8fa-8b257da704cd",
    "scrolled": true
   },
   "outputs": [
    {
     "name": "stdout",
     "output_type": "stream",
     "text": [
      "Compiling model...\n",
      "'compile' took 0.000232 s\n",
      "\n",
      "Training model...\n",
      "\n",
      "Step      Train loss                                                                                              Test loss                                                                                               Test metric\n",
      "0         [2.50e-01, 3.51e-01, 5.81e-01, 1.93e-02, 4.07e-05, 8.11e-02, 8.00e-03, 4.07e-05, 8.53e+00, 1.20e+01]    [2.50e-01, 3.51e-01, 5.81e-01, 1.93e-02, 4.07e-05, 8.11e-02, 8.00e-03, 4.07e-05, 8.53e+00, 1.20e+01]    []  \n",
      "1000      [5.55e-01, 6.22e-01, 8.47e-04, 8.18e-04, 5.76e-04, 1.03e-03, 6.09e-04, 5.76e-04, 2.95e-01, 3.22e-01]    [5.40e-01, 6.82e-01, 8.47e-04, 8.18e-04, 5.76e-04, 1.03e-03, 6.09e-04, 5.76e-04, 2.95e-01, 3.22e-01]    []  \n",
      "2000      [4.87e-01, 4.36e-01, 1.38e-03, 2.36e-04, 2.41e-04, 1.23e-03, 4.82e-04, 2.41e-04, 1.37e-01, 8.68e-02]    [5.97e-01, 4.53e-01, 1.38e-03, 2.36e-04, 2.41e-04, 1.23e-03, 4.82e-04, 2.41e-04, 1.37e-01, 8.68e-02]    []  \n",
      "3000      [3.91e-01, 4.87e-01, 1.07e-03, 5.93e-04, 1.74e-04, 7.31e-04, 3.02e-04, 1.74e-04, 1.19e-01, 1.14e-01]    [3.73e-01, 5.50e-01, 1.07e-03, 5.93e-04, 1.74e-04, 7.31e-04, 3.02e-04, 1.74e-04, 1.19e-01, 1.14e-01]    []  \n",
      "4000      [4.02e-01, 3.47e-01, 5.99e-04, 4.24e-04, 1.97e-04, 3.49e-04, 2.46e-04, 1.97e-04, 7.51e-02, 9.01e-02]    [4.40e-01, 3.55e-01, 5.99e-04, 4.24e-04, 1.97e-04, 3.49e-04, 2.46e-04, 1.97e-04, 7.51e-02, 9.01e-02]    []  \n",
      "5000      [3.17e-01, 3.16e-01, 4.44e-04, 3.96e-04, 9.76e-05, 1.74e-04, 4.26e-04, 9.76e-05, 5.00e-02, 8.98e-02]    [3.70e-01, 3.86e-01, 4.44e-04, 3.96e-04, 9.76e-05, 1.74e-04, 4.26e-04, 9.76e-05, 5.00e-02, 8.98e-02]    []  \n",
      "6000      [2.92e-01, 2.79e-01, 4.38e-04, 3.65e-04, 9.59e-05, 4.95e-04, 2.04e-04, 9.59e-05, 4.48e-02, 8.19e-02]    [3.07e-01, 3.48e-01, 4.38e-04, 3.65e-04, 9.59e-05, 4.95e-04, 2.04e-04, 9.59e-05, 4.48e-02, 8.19e-02]    []  \n",
      "7000      [2.55e-01, 2.80e-01, 7.13e-04, 4.02e-04, 9.74e-05, 8.03e-04, 2.44e-04, 9.74e-05, 2.76e-02, 5.82e-02]    [2.98e-01, 3.55e-01, 7.13e-04, 4.02e-04, 9.74e-05, 8.03e-04, 2.44e-04, 9.74e-05, 2.76e-02, 5.82e-02]    []  \n",
      "8000      [2.43e-01, 2.69e-01, 3.73e-04, 2.87e-04, 5.99e-05, 3.16e-04, 3.25e-04, 5.99e-05, 3.35e-02, 5.11e-02]    [2.94e-01, 2.94e-01, 3.73e-04, 2.87e-04, 5.99e-05, 3.16e-04, 3.25e-04, 5.99e-05, 3.35e-02, 5.11e-02]    []  \n",
      "9000      [3.24e-01, 3.06e-01, 1.78e-03, 2.75e-04, 7.30e-05, 7.39e-04, 2.20e-04, 7.30e-05, 4.40e-02, 5.76e-02]    [3.68e-01, 3.70e-01, 1.78e-03, 2.75e-04, 7.30e-05, 7.39e-04, 2.20e-04, 7.30e-05, 4.40e-02, 5.76e-02]    []  \n",
      "10000     [2.43e-01, 2.09e-01, 3.29e-04, 1.93e-04, 6.19e-05, 2.75e-04, 2.00e-04, 6.19e-05, 3.20e-02, 3.61e-02]    [2.67e-01, 2.55e-01, 3.29e-04, 1.93e-04, 6.19e-05, 2.75e-04, 2.00e-04, 6.19e-05, 3.20e-02, 3.61e-02]    []  \n",
      "11000     [1.71e-01, 1.66e-01, 2.17e-04, 2.06e-04, 7.85e-05, 1.14e-04, 1.03e-04, 7.85e-05, 2.44e-02, 3.08e-02]    [2.44e-01, 2.38e-01, 2.17e-04, 2.06e-04, 7.85e-05, 1.14e-04, 1.03e-04, 7.85e-05, 2.44e-02, 3.08e-02]    []  \n",
      "12000     [4.30e-01, 2.60e-01, 1.94e-04, 1.83e-04, 4.55e-05, 3.38e-04, 1.39e-04, 4.55e-05, 5.99e-02, 3.13e-02]    [4.65e-01, 2.89e-01, 1.94e-04, 1.83e-04, 4.55e-05, 3.38e-04, 1.39e-04, 4.55e-05, 5.99e-02, 3.13e-02]    []  \n",
      "13000     [3.84e-01, 4.18e-01, 9.39e-04, 7.91e-04, 8.12e-04, 1.16e-03, 1.06e-03, 8.12e-04, 1.44e-01, 1.51e-01]    [4.14e-01, 4.74e-01, 9.39e-04, 7.91e-04, 8.12e-04, 1.16e-03, 1.06e-03, 8.12e-04, 1.44e-01, 1.51e-01]    []  \n",
      "14000     [1.74e-01, 1.89e-01, 3.45e-04, 1.69e-04, 4.32e-05, 1.95e-04, 1.03e-04, 4.32e-05, 1.97e-02, 2.81e-02]    [1.99e-01, 2.28e-01, 3.45e-04, 1.69e-04, 4.32e-05, 1.95e-04, 1.03e-04, 4.32e-05, 1.97e-02, 2.81e-02]    []  \n",
      "15000     [1.73e-01, 1.51e-01, 2.10e-04, 2.53e-04, 4.09e-05, 1.31e-04, 8.83e-05, 4.09e-05, 1.65e-02, 2.72e-02]    [2.26e-01, 2.11e-01, 2.10e-04, 2.53e-04, 4.09e-05, 1.31e-04, 8.83e-05, 4.09e-05, 1.65e-02, 2.72e-02]    []  \n",
      "16000     [1.83e-01, 2.00e-01, 2.48e-04, 1.86e-04, 4.09e-05, 2.01e-04, 1.40e-04, 4.09e-05, 1.69e-02, 2.01e-02]    [2.00e-01, 2.48e-01, 2.48e-04, 1.86e-04, 4.09e-05, 2.01e-04, 1.40e-04, 4.09e-05, 1.69e-02, 2.01e-02]    []  \n",
      "17000     [8.95e-01, 2.29e+00, 2.41e-03, 7.28e-04, 9.57e-04, 9.83e-04, 1.23e-03, 9.57e-04, 1.04e-01, 2.38e-01]    [8.94e-01, 2.37e+00, 2.41e-03, 7.28e-04, 9.57e-04, 9.83e-04, 1.23e-03, 9.57e-04, 1.04e-01, 2.38e-01]    []  \n",
      "18000     [1.72e-01, 1.69e-01, 2.05e-04, 2.48e-04, 1.95e-04, 1.54e-04, 1.99e-04, 1.95e-04, 2.28e-02, 3.13e-02]    [2.05e-01, 2.14e-01, 2.05e-04, 2.48e-04, 1.95e-04, 1.54e-04, 1.99e-04, 1.95e-04, 2.28e-02, 3.13e-02]    []  \n",
      "19000     [1.67e-01, 1.90e-01, 1.74e-04, 3.50e-04, 6.47e-05, 1.40e-04, 1.34e-04, 6.47e-05, 1.73e-02, 1.65e-02]    [1.78e-01, 2.45e-01, 1.74e-04, 3.50e-04, 6.47e-05, 1.40e-04, 1.34e-04, 6.47e-05, 1.73e-02, 1.65e-02]    []  \n",
      "20000     [2.25e-01, 2.02e-01, 5.78e-04, 3.67e-04, 9.91e-05, 1.54e-04, 1.04e-04, 9.91e-05, 2.57e-02, 3.39e-02]    [2.73e-01, 2.47e-01, 5.78e-04, 3.67e-04, 9.91e-05, 1.54e-04, 1.04e-04, 9.91e-05, 2.57e-02, 3.39e-02]    []  \n",
      "21000     [3.02e-01, 1.74e-01, 1.71e-04, 2.96e-04, 8.23e-05, 2.89e-04, 1.61e-04, 8.23e-05, 1.75e-02, 2.11e-02]    [3.24e-01, 2.25e-01, 1.71e-04, 2.96e-04, 8.23e-05, 2.89e-04, 1.61e-04, 8.23e-05, 1.75e-02, 2.11e-02]    []  \n",
      "22000     [1.92e-01, 1.61e-01, 3.24e-04, 2.70e-04, 1.35e-04, 3.01e-04, 8.60e-05, 1.35e-04, 2.01e-02, 3.25e-02]    [2.13e-01, 1.75e-01, 3.24e-04, 2.70e-04, 1.35e-04, 3.01e-04, 8.60e-05, 1.35e-04, 2.01e-02, 3.25e-02]    []  \n",
      "23000     [1.45e-01, 1.19e-01, 1.21e-04, 2.11e-04, 6.23e-05, 1.32e-04, 1.18e-04, 6.23e-05, 1.19e-02, 1.46e-02]    [1.63e-01, 1.42e-01, 1.21e-04, 2.11e-04, 6.23e-05, 1.32e-04, 1.18e-04, 6.23e-05, 1.19e-02, 1.46e-02]    []  \n",
      "24000     [1.07e-01, 1.11e-01, 2.56e-04, 2.65e-04, 4.60e-05, 1.17e-04, 1.35e-04, 4.60e-05, 9.50e-03, 9.73e-03]    [1.31e-01, 1.61e-01, 2.56e-04, 2.65e-04, 4.60e-05, 1.17e-04, 1.35e-04, 4.60e-05, 9.50e-03, 9.73e-03]    []  \n",
      "25000     [1.37e-01, 1.95e-01, 2.23e-04, 1.70e-04, 3.65e-05, 1.28e-04, 2.25e-04, 3.65e-05, 1.16e-02, 1.02e-02]    [1.50e-01, 2.25e-01, 2.23e-04, 1.70e-04, 3.65e-05, 1.28e-04, 2.25e-04, 3.65e-05, 1.16e-02, 1.02e-02]    []  \n",
      "26000     [9.13e-02, 8.39e-02, 3.16e-04, 1.76e-04, 5.56e-05, 2.00e-04, 3.05e-04, 5.56e-05, 9.99e-03, 9.87e-03]    [1.23e-01, 1.20e-01, 3.16e-04, 1.76e-04, 5.56e-05, 2.00e-04, 3.05e-04, 5.56e-05, 9.99e-03, 9.87e-03]    []  \n",
      "27000     [7.80e-02, 7.16e-02, 2.28e-04, 1.19e-04, 4.32e-05, 2.78e-04, 2.23e-04, 4.32e-05, 8.53e-03, 7.43e-03]    [9.91e-02, 9.53e-02, 2.28e-04, 1.19e-04, 4.32e-05, 2.78e-04, 2.23e-04, 4.32e-05, 8.53e-03, 7.43e-03]    []  \n",
      "28000     [6.38e-02, 6.37e-02, 1.70e-04, 1.06e-04, 4.43e-05, 2.35e-04, 2.02e-04, 4.43e-05, 5.84e-03, 5.58e-03]    [7.75e-02, 8.87e-02, 1.70e-04, 1.06e-04, 4.43e-05, 2.35e-04, 2.02e-04, 4.43e-05, 5.84e-03, 5.58e-03]    []  \n",
      "29000     [2.69e-01, 5.06e-01, 4.57e-04, 1.63e-04, 6.94e-05, 6.27e-04, 3.11e-04, 6.94e-05, 2.25e-02, 3.21e-02]    [2.38e-01, 3.98e-01, 4.57e-04, 1.63e-04, 6.94e-05, 6.27e-04, 3.11e-04, 6.94e-05, 2.25e-02, 3.21e-02]    []  \n",
      "30000     [4.70e-02, 4.73e-02, 1.68e-04, 1.07e-04, 2.71e-05, 1.31e-04, 1.98e-04, 2.71e-05, 4.93e-03, 4.41e-03]    [5.94e-02, 6.78e-02, 1.68e-04, 1.07e-04, 2.71e-05, 1.31e-04, 1.98e-04, 2.71e-05, 4.93e-03, 4.41e-03]    []  \n",
      "\n",
      "Best model at step 30000:\n",
      "  train loss: 1.04e-01\n",
      "  test loss: 1.37e-01\n",
      "  test metric: []\n",
      "\n",
      "'train' took 33905.947560 s\n",
      "\n"
     ]
    },
    {
     "data": {
      "text/plain": [
       "(<deepxde.model.LossHistory at 0x7fc64490c940>,\n",
       " <deepxde.model.TrainState at 0x7fc644903430>)"
      ]
     },
     "execution_count": 7,
     "metadata": {},
     "output_type": "execute_result"
    }
   ],
   "source": [
    "x_l = -20\n",
    "x_r = 20\n",
    "t_lower = 0\n",
    "t_upper = 2\n",
    "\n",
    "x = np.linspace(x_l, x_r, 200)\n",
    "t = np.linspace(t_lower, t_upper, 50)\n",
    "X, T = np.meshgrid(x, t)\n",
    "\n",
    "X_star = np.hstack((X.flatten()[:, None], T.flatten()[:, None]))\n",
    "\n",
    "space_domain = dde.geometry.Interval(x_l, x_r)\n",
    "time_domain = dde.geometry.TimeDomain(t_lower, t_upper)\n",
    "geomtime = dde.geometry.GeometryXTime(space_domain, time_domain)\n",
    "\n",
    "\n",
    "k = 1\n",
    "χ = 1\n",
    "a = 0.5\n",
    "x_0 = 15\n",
    "θ_0 = np.pi / 3\n",
    "\n",
    "a1 = 1\n",
    "a2 = 1\n",
    "a4 = 0.3\n",
    "a6 = 0.1\n",
    "\n",
    "b1 = 1\n",
    "\n",
    "A1 = np.sqrt((2 * χ / b1) * (a2 - 6 * a4 * k ** 2 + 12 * a4 * k + 10 * a4 + 75 * a6 * k ** 4 + 150 * a6 * k ** 2 + 91 * a6))\n",
    "C0 = a1 + 2 * a2 * k + 8 * a4 * k ** 3 + 96 * a6 * k ** 5\n",
    "ω = a1 * k + a2 * k ** 2 - a2 + 3 * a4 * k ** 4 - 6 * a4 * k ** 2 - a4 + 35 * a6 * k ** 6 - 75 * a6 * k ** 4 - 15 * a6 * k ** 2 - a6\n",
    "\n",
    "a3 = -4 * a4 * k - 40 * a6 * k ** 3\n",
    "a5 = -6 * a6 * k\n",
    "\n",
    "b2 = - (24 * a4 * χ ** 2 + 360 * a6 * χ ** 2 * k ** 2 + 840 * a6 * χ ** 2) / A1 ** 4\n",
    "b3 = 720 * a6 * χ ** 3 / A1 ** 6\n",
    "\n",
    "\n",
    "def pde(x, y):\n",
    "    u = y[:, 0:1]\n",
    "    v = y[:, 1:2]\n",
    "\n",
    "    u_t = dde.grad.jacobian(y, x, i=0, j=1)\n",
    "    v_t = dde.grad.jacobian(y, x, i=1, j=1)\n",
    "\n",
    "    u_x = dde.grad.jacobian(y, x, i=0, j=0)\n",
    "    v_x = dde.grad.jacobian(y, x, i=1, j=0)\n",
    "\n",
    "    u_xx = dde.grad.hessian(y, x, component=0, i=0, j=0)\n",
    "    v_xx = dde.grad.hessian(y, x, component=1, i=0, j=0)\n",
    "\n",
    "    u_xxx = dde.grad.jacobian(u_xx, x, j=0)\n",
    "    v_xxx = dde.grad.jacobian(v_xx, x, j=0)\n",
    "\n",
    "    u_xxxx = dde.grad.jacobian(u_xxx, x, j=0)\n",
    "    v_xxxx = dde.grad.jacobian(v_xxx, x, j=0)\n",
    "\n",
    "    u_xxxxx = dde.grad.jacobian(u_xxxx, x, j=0)\n",
    "    v_xxxxx = dde.grad.jacobian(v_xxxx, x, j=0)\n",
    "\n",
    "    u_xxxxxx = dde.grad.jacobian(u_xxxxx, x, j=0)\n",
    "    v_xxxxxx = dde.grad.jacobian(v_xxxxx, x, j=0)\n",
    "\n",
    "    f_u = -v_t - a1 * v_x + a2 * u_xx - a3 * v_xxx + a4 * u_xxxx - a5 * v_xxxxx + a6 * u_xxxxxx + u * (b1 * (u ** 2 + v ** 2) + b2 * (u ** 2 + v ** 2) ** 2 + b3 * (u ** 2 + v ** 2) ** 3)\n",
    "    f_v = u_t + a1 * u_x + a2 * v_xx + a3 * u_xxx + a4 * v_xxxx + a5 * u_xxxxx + a6 * v_xxxxxx + v * (b1 * (u ** 2 + v ** 2) + b2 * (u ** 2 + v ** 2) ** 2 + b3 * (u ** 2 + v ** 2) ** 3)\n",
    "\n",
    "    return [f_u, f_v]\n",
    "\n",
    "\n",
    "bc_u_0 = dde.icbc.DirichletBC(\n",
    "    geomtime, lambda _: 0, lambda _, on_boundary: on_boundary, component=0\n",
    ")\n",
    "bc_v_0 = dde.icbc.DirichletBC(\n",
    "    geomtime, lambda _: 0, lambda _, on_boundary: on_boundary, component=1\n",
    ")\n",
    "\n",
    "\n",
    "bc_u_1 = dde.icbc.NeumannBC(\n",
    "    geomtime, lambda _: 0, lambda _, on_boundary: on_boundary, component=0\n",
    ")\n",
    "bc_v_1 = dde.icbc.NeumannBC(\n",
    "    geomtime, lambda _: 0, lambda _, on_boundary: on_boundary, component=1\n",
    ")\n",
    "\n",
    "\n",
    "bc_u_2 = dde.icbc.OperatorBC(\n",
    "    geomtime, lambda x, u, _: dde.grad.hessian(u, x, i=0, j=0),\n",
    "    lambda _, on_boundary: on_boundary\n",
    ")\n",
    "bc_v_2 = dde.icbc.OperatorBC(\n",
    "    geomtime, lambda x, v, _: dde.grad.hessian(v, x, i=0, j=0),\n",
    "    lambda _, on_boundary: on_boundary\n",
    ")\n",
    "\n",
    "\n",
    "def g(x, a, b, c):\n",
    "    return a * np.exp(-(x - b) ** 2 / (2 * c ** 2))\n",
    "\n",
    "\n",
    "def init_cond_u(x):\n",
    "    exp = np.exp(np.float64(x[:, 0:1] + x_0))\n",
    "\n",
    "    return np.cos(k * x[:, 0:1] + θ_0) * (A1 / (a * exp + χ / (4 * a * exp))) + g(np.float64(x[:, 0:1]), 0.2, 0, 5)\n",
    "\n",
    "\n",
    "def init_cond_v(x):\n",
    "    exp = np.exp(np.float64(x[:, 0:1] + x_0))\n",
    "\n",
    "    return np.sin(k * x[:, 0:1] + θ_0) * (A1 / (a * exp + χ / (4 * a * exp)))\n",
    "\n",
    "\n",
    "ic_u = dde.icbc.IC(geomtime, init_cond_u, lambda _, on_initial: on_initial, component=0)\n",
    "ic_v = dde.icbc.IC(geomtime, init_cond_v, lambda _, on_initial: on_initial, component=1)\n",
    "\n",
    "\n",
    "data = dde.data.TimePDE(\n",
    "    geomtime,\n",
    "    pde,\n",
    "    [bc_u_0, bc_u_1, bc_u_2, bc_v_0, bc_v_1, bc_v_2, ic_u, ic_v],\n",
    "    num_domain=10000,\n",
    "    num_boundary=200,\n",
    "    num_initial=3000,\n",
    "    train_distribution=\"pseudo\",\n",
    ")\n",
    "\n",
    "net = dde.nn.FNN([2] + [100] * 3 + [2], \"sin\", \"Glorot normal\")\n",
    "\n",
    "model = dde.Model(data, net)\n",
    "\n",
    "opt = torch.optim.Adam(model.net.parameters(), lr=0.01, betas=(0.9, 0.999), eps=1e-08, weight_decay=0, amsgrad=False)\n",
    "\n",
    "model.compile(optimizer=opt, lr=0.01, loss=\"MSE\",\n",
    "              loss_weights=(1., 1., 1., 1., 1., 1., 1., 1., 5., 5.),\n",
    "              decay=(\"inverse time\", 100, 0.01143))\n",
    "model.train(iterations=30000, display_every=1000, callbacks=[dde.callbacks.PDEPointResampler(period=10)])"
   ]
  },
  {
   "cell_type": "code",
   "execution_count": 8,
   "metadata": {
    "colab": {
     "base_uri": "https://localhost:8080/"
    },
    "id": "8hOjp0T2Uwdi",
    "outputId": "1d8a8e4c-3f11-4b3d-b156-ca5dca5ab7f1"
   },
   "outputs": [
    {
     "name": "stdout",
     "output_type": "stream",
     "text": [
      "Compiling model...\n",
      "'compile' took 0.000524 s\n",
      "\n",
      "Training model...\n",
      "\n",
      "Step      Train loss                                                                                              Test loss                                                                                               Test metric\n",
      "30000     [5.47e-02, 6.47e-02, 1.68e-04, 1.07e-04, 2.71e-05, 1.31e-04, 1.98e-04, 2.71e-05, 9.87e-04, 8.82e-04]    [5.94e-02, 6.78e-02, 1.68e-04, 1.07e-04, 2.71e-05, 1.31e-04, 1.98e-04, 2.71e-05, 9.87e-04, 8.82e-04]    []  \n",
      "31000     [1.79e-02, 1.74e-02, 1.30e-04, 1.04e-04, 2.79e-05, 5.17e-05, 1.35e-04, 2.79e-05, 2.68e-03, 1.44e-03]    [6.53e-02, 7.04e-02, 1.30e-04, 1.04e-04, 2.79e-05, 5.17e-05, 1.35e-04, 2.79e-05, 2.68e-03, 1.44e-03]    []  \n",
      "\n",
      "Best model at step 31000:\n",
      "  train loss: 3.99e-02\n",
      "  test loss: 1.40e-01\n",
      "  test metric: []\n",
      "\n",
      "'train' took 1224.848000 s\n",
      "\n"
     ]
    },
    {
     "data": {
      "text/plain": [
       "(<deepxde.model.LossHistory at 0x7fc64490c940>,\n",
       " <deepxde.model.TrainState at 0x7fc644903430>)"
      ]
     },
     "execution_count": 8,
     "metadata": {},
     "output_type": "execute_result"
    }
   ],
   "source": [
    "model.compile(\"L-BFGS\", lr=dde.optimizers.set_LBFGS_options(maxcor=50, ftol=1.0 * np.finfo(float).eps, gtol=1e-5, maxiter=1000, maxfun=50000, maxls=25), loss=\"MSE\")\n",
    "model.train(iterations=1000, display_every=1000)"
   ]
  },
  {
   "cell_type": "code",
   "execution_count": 9,
   "metadata": {
    "colab": {
     "base_uri": "https://localhost:8080/",
     "height": 419
    },
    "id": "vGNF491IDh0l",
    "outputId": "a2b937a9-93ff-42d3-c4da-cb752abac5a4"
   },
   "outputs": [
    {
     "data": {
      "text/html": [
       "<div>\n",
       "<style scoped>\n",
       "    .dataframe tbody tr th:only-of-type {\n",
       "        vertical-align: middle;\n",
       "    }\n",
       "\n",
       "    .dataframe tbody tr th {\n",
       "        vertical-align: top;\n",
       "    }\n",
       "\n",
       "    .dataframe thead th {\n",
       "        text-align: right;\n",
       "    }\n",
       "</style>\n",
       "<table border=\"1\" class=\"dataframe\">\n",
       "  <thead>\n",
       "    <tr style=\"text-align: right;\">\n",
       "      <th></th>\n",
       "      <th>x</th>\n",
       "      <th>t</th>\n",
       "      <th>pred_u</th>\n",
       "      <th>pred_v</th>\n",
       "      <th>pred_h</th>\n",
       "      <th>true_u</th>\n",
       "      <th>true_v</th>\n",
       "      <th>true_h</th>\n",
       "    </tr>\n",
       "  </thead>\n",
       "  <tbody>\n",
       "    <tr>\n",
       "      <th>0</th>\n",
       "      <td>-20.000000</td>\n",
       "      <td>0.0</td>\n",
       "      <td>0.117134</td>\n",
       "      <td>0.015879</td>\n",
       "      <td>0.118206</td>\n",
       "      <td>0.115923</td>\n",
       "      <td>-0.012011</td>\n",
       "      <td>0.116544</td>\n",
       "    </tr>\n",
       "    <tr>\n",
       "      <th>1</th>\n",
       "      <td>-19.798995</td>\n",
       "      <td>0.0</td>\n",
       "      <td>0.137263</td>\n",
       "      <td>0.032503</td>\n",
       "      <td>0.141058</td>\n",
       "      <td>0.141806</td>\n",
       "      <td>0.013907</td>\n",
       "      <td>0.142487</td>\n",
       "    </tr>\n",
       "    <tr>\n",
       "      <th>2</th>\n",
       "      <td>-19.597990</td>\n",
       "      <td>0.0</td>\n",
       "      <td>0.157359</td>\n",
       "      <td>0.061129</td>\n",
       "      <td>0.168815</td>\n",
       "      <td>0.166486</td>\n",
       "      <td>0.051275</td>\n",
       "      <td>0.174203</td>\n",
       "    </tr>\n",
       "    <tr>\n",
       "      <th>3</th>\n",
       "      <td>-19.396985</td>\n",
       "      <td>0.0</td>\n",
       "      <td>0.175382</td>\n",
       "      <td>0.103771</td>\n",
       "      <td>0.203782</td>\n",
       "      <td>0.186927</td>\n",
       "      <td>0.102062</td>\n",
       "      <td>0.212975</td>\n",
       "    </tr>\n",
       "    <tr>\n",
       "      <th>4</th>\n",
       "      <td>-19.195980</td>\n",
       "      <td>0.0</td>\n",
       "      <td>0.187621</td>\n",
       "      <td>0.162565</td>\n",
       "      <td>0.248252</td>\n",
       "      <td>0.199012</td>\n",
       "      <td>0.167889</td>\n",
       "      <td>0.260370</td>\n",
       "    </tr>\n",
       "    <tr>\n",
       "      <th>...</th>\n",
       "      <td>...</td>\n",
       "      <td>...</td>\n",
       "      <td>...</td>\n",
       "      <td>...</td>\n",
       "      <td>...</td>\n",
       "      <td>...</td>\n",
       "      <td>...</td>\n",
       "      <td>...</td>\n",
       "    </tr>\n",
       "    <tr>\n",
       "      <th>9995</th>\n",
       "      <td>19.195980</td>\n",
       "      <td>2.0</td>\n",
       "      <td>0.025430</td>\n",
       "      <td>-0.137788</td>\n",
       "      <td>0.140115</td>\n",
       "      <td>0.236965</td>\n",
       "      <td>0.107890</td>\n",
       "      <td>0.260370</td>\n",
       "    </tr>\n",
       "    <tr>\n",
       "      <th>9996</th>\n",
       "      <td>19.396985</td>\n",
       "      <td>2.0</td>\n",
       "      <td>0.042683</td>\n",
       "      <td>-0.124701</td>\n",
       "      <td>0.131803</td>\n",
       "      <td>0.172308</td>\n",
       "      <td>0.125173</td>\n",
       "      <td>0.212975</td>\n",
       "    </tr>\n",
       "    <tr>\n",
       "      <th>9997</th>\n",
       "      <td>19.597990</td>\n",
       "      <td>2.0</td>\n",
       "      <td>0.056079</td>\n",
       "      <td>-0.108576</td>\n",
       "      <td>0.122203</td>\n",
       "      <td>0.117660</td>\n",
       "      <td>0.128463</td>\n",
       "      <td>0.174203</td>\n",
       "    </tr>\n",
       "    <tr>\n",
       "      <th>9998</th>\n",
       "      <td>19.798995</td>\n",
       "      <td>2.0</td>\n",
       "      <td>0.065965</td>\n",
       "      <td>-0.091453</td>\n",
       "      <td>0.112761</td>\n",
       "      <td>0.073322</td>\n",
       "      <td>0.122173</td>\n",
       "      <td>0.142487</td>\n",
       "    </tr>\n",
       "    <tr>\n",
       "      <th>9999</th>\n",
       "      <td>20.000000</td>\n",
       "      <td>2.0</td>\n",
       "      <td>0.073143</td>\n",
       "      <td>-0.075310</td>\n",
       "      <td>0.104983</td>\n",
       "      <td>0.038814</td>\n",
       "      <td>0.109891</td>\n",
       "      <td>0.116544</td>\n",
       "    </tr>\n",
       "  </tbody>\n",
       "</table>\n",
       "<p>10000 rows × 8 columns</p>\n",
       "</div>"
      ],
      "text/plain": [
       "              x    t    pred_u    pred_v    pred_h    true_u    true_v  \\\n",
       "0    -20.000000  0.0  0.117134  0.015879  0.118206  0.115923 -0.012011   \n",
       "1    -19.798995  0.0  0.137263  0.032503  0.141058  0.141806  0.013907   \n",
       "2    -19.597990  0.0  0.157359  0.061129  0.168815  0.166486  0.051275   \n",
       "3    -19.396985  0.0  0.175382  0.103771  0.203782  0.186927  0.102062   \n",
       "4    -19.195980  0.0  0.187621  0.162565  0.248252  0.199012  0.167889   \n",
       "...         ...  ...       ...       ...       ...       ...       ...   \n",
       "9995  19.195980  2.0  0.025430 -0.137788  0.140115  0.236965  0.107890   \n",
       "9996  19.396985  2.0  0.042683 -0.124701  0.131803  0.172308  0.125173   \n",
       "9997  19.597990  2.0  0.056079 -0.108576  0.122203  0.117660  0.128463   \n",
       "9998  19.798995  2.0  0.065965 -0.091453  0.112761  0.073322  0.122173   \n",
       "9999  20.000000  2.0  0.073143 -0.075310  0.104983  0.038814  0.109891   \n",
       "\n",
       "        true_h  \n",
       "0     0.116544  \n",
       "1     0.142487  \n",
       "2     0.174203  \n",
       "3     0.212975  \n",
       "4     0.260370  \n",
       "...        ...  \n",
       "9995  0.260370  \n",
       "9996  0.212975  \n",
       "9997  0.174203  \n",
       "9998  0.142487  \n",
       "9999  0.116544  \n",
       "\n",
       "[10000 rows x 8 columns]"
      ]
     },
     "metadata": {},
     "output_type": "display_data"
    }
   ],
   "source": [
    "prediction = model.predict(X_star)\n",
    "\n",
    "u = griddata(X_star, prediction[:, 0], (X, T), method=\"cubic\")\n",
    "v = griddata(X_star, prediction[:, 1], (X, T), method=\"cubic\")\n",
    "\n",
    "q = np.sqrt(u ** 2 + v ** 2)\n",
    "\n",
    "def u_exact(x, t):\n",
    "    return np.cos(k * x - ω * t + θ_0) * (A1 / (a * np.exp(x - C0 * t + x_0) + χ * np.exp(-(x - C0 * t + x_0)) / (4 * a)))\n",
    "\n",
    "\n",
    "def v_exact(x, t):\n",
    "    return np.sin(k * x - ω * t + θ_0) * (A1 / (a * np.exp(x - C0 * t + x_0) + χ * np.exp(-(x - C0 * t + x_0)) / (4 * a)))\n",
    "\n",
    "\n",
    "def q_exact(x, t):\n",
    "    return A1 / (a * np.exp(x - C0 * t + x_0) + χ * np.exp(-(x - C0 * t + x_0)) / (4 * a))\n",
    "\n",
    "\n",
    "data_ = {'x': X.flatten(), 't': T.flatten(), 'pred_u': u.flatten(), 'pred_v': v.flatten(), 'pred_h': q.flatten(),\n",
    "        'true_u': u_exact(X, T).flatten(), 'true_v': v_exact(X, T).flatten(), 'true_h': q_exact(X, T).flatten()\n",
    "         }\n",
    "\n",
    "df = pd.DataFrame(data_)\n",
    "table = pa.Table.from_pandas(df)\n",
    "orc.write_table(table, 'my_data_gauss.orc')\n",
    "display(df)"
   ]
  },
  {
   "cell_type": "code",
   "execution_count": 10,
   "metadata": {
    "colab": {
     "base_uri": "https://localhost:8080/",
     "height": 463
    },
    "id": "hzXzjzaIDn7K",
    "outputId": "1dffd309-3c34-4800-c800-f1fe856cc58c"
   },
   "outputs": [
    {
     "data": {
      "image/png": "[encoded data removed]",
      "text/plain": [
       "<Figure size 432x288 with 6 Axes>"
      ]
     },
     "metadata": {
      "needs_background": "light"
     },
     "output_type": "display_data"
    }
   ],
   "source": [
    "fig, ax = plt.subplots(3, 2)\n",
    "\n",
    "plt.suptitle(\"Results\", fontsize=15, x=0.5, y=0.95)\n",
    "\n",
    "ax[0, 0].set_ylabel(\"Real part\")\n",
    "ax[0, 0].imshow(\n",
    "    u.T,\n",
    "    interpolation=\"nearest\",\n",
    "    cmap=\"viridis\",\n",
    "    extent=[t_lower, t_upper, x_l, x_r],\n",
    "    origin=\"lower\",\n",
    "    aspect=\"auto\",\n",
    ")\n",
    "ax[1, 0].set_ylabel(\"Imaginary part\")\n",
    "ax[1, 0].imshow(\n",
    "    v.T,\n",
    "    interpolation=\"nearest\",\n",
    "    cmap=\"viridis\",\n",
    "    extent=[t_lower, t_upper, x_l, x_r],\n",
    "    origin=\"lower\",\n",
    "    aspect=\"auto\",\n",
    ")\n",
    "ax[2, 0].set_ylabel(\"Amplitude\")\n",
    "ax[2, 0].imshow(\n",
    "    q.T,\n",
    "    interpolation=\"nearest\",\n",
    "    cmap=\"viridis\",\n",
    "    extent=[t_lower, t_upper, x_l, x_r],\n",
    "    origin=\"lower\",\n",
    "    aspect=\"auto\",\n",
    ")\n",
    "\n",
    "ax[0, 1].set_ylabel(\"Exact real part\")\n",
    "ax[0, 1].imshow(\n",
    "    u_exact(X, T).T,\n",
    "    interpolation=\"nearest\",\n",
    "    cmap=\"viridis\",\n",
    "    extent=[t_lower, t_upper, x_l, x_r],\n",
    "    origin=\"lower\",\n",
    "    aspect=\"auto\",\n",
    ")\n",
    "ax[1, 1].set_ylabel(\"Exact imaginary part\")\n",
    "ax[1, 1].imshow(\n",
    "    v_exact(X, T).T,\n",
    "    interpolation=\"nearest\",\n",
    "    cmap=\"viridis\",\n",
    "    extent=[t_lower, t_upper, x_l, x_r],\n",
    "    origin=\"lower\",\n",
    "    aspect=\"auto\",\n",
    ")\n",
    "ax[2, 1].set_ylabel(\"Exact amplitude\")\n",
    "ax[2, 1].imshow(\n",
    "    q_exact(X, T).T,\n",
    "    interpolation=\"nearest\",\n",
    "    cmap=\"viridis\",\n",
    "    extent=[t_lower, t_upper, x_l, x_r],\n",
    "    origin=\"lower\",\n",
    "    aspect=\"auto\",\n",
    ")\n",
    "\n",
    "plt.subplots_adjust(wspace=0.5, hspace=0.5)\n",
    "\n",
    "plt.show()"
   ]
  }
 ],
 "metadata": {
  "accelerator": "GPU",
  "colab": {
   "gpuType": "T4",
   "provenance": []
  },
  "kernelspec": {
   "display_name": "Python 3",
   "language": "python",
   "name": "python3"
  },
  "language_info": {
   "codemirror_mode": {
    "name": "ipython",
    "version": 3
   },
   "file_extension": ".py",
   "mimetype": "text/x-python",
   "name": "python",
   "nbconvert_exporter": "python",
   "pygments_lexer": "ipython3",
   "version": "3.8.6"
  }
 },
 "nbformat": 4,
 "nbformat_minor": 1
}
