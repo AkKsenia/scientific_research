{
 "cells": [
  {
   "cell_type": "code",
   "execution_count": 1,
   "metadata": {
    "colab": {
     "base_uri": "https://localhost:8080/"
    },
    "execution": {
     "iopub.execute_input": "2024-08-02T11:16:45.883806Z",
     "iopub.status.busy": "2024-08-02T11:16:45.882338Z",
     "iopub.status.idle": "2024-08-02T11:16:49.923688Z",
     "shell.execute_reply": "2024-08-02T11:16:49.922655Z",
     "shell.execute_reply.started": "2024-08-02T11:16:45.883760Z"
    },
    "id": "YXd_uigluvVu",
    "outputId": "1465db20-1008-40d2-89c7-40c904f858f8"
   },
   "outputs": [
    {
     "name": "stdout",
     "output_type": "stream",
     "text": [
      "Defaulting to user installation because normal site-packages is not writeable\n",
      "Requirement already satisfied: DeepXDE in /home/jupyter/.local/lib/python3.10/site-packages (1.11.0)\n",
      "Requirement already satisfied: matplotlib in /usr/local/lib/python3.10/dist-packages (from DeepXDE) (3.7.1)\n",
      "Requirement already satisfied: numpy in /usr/local/lib/python3.10/dist-packages (from DeepXDE) (1.22.4)\n",
      "Requirement already satisfied: scikit-learn in /usr/local/lib/python3.10/dist-packages (from DeepXDE) (1.2.2)\n",
      "Requirement already satisfied: scikit-optimize>=0.9.0 in /home/jupyter/.local/lib/python3.10/site-packages (from DeepXDE) (0.10.1)\n",
      "Requirement already satisfied: scipy in /usr/local/lib/python3.10/dist-packages (from DeepXDE) (1.10.1)\n",
      "Requirement already satisfied: joblib>=0.11 in /usr/local/lib/python3.10/dist-packages (from scikit-optimize>=0.9.0->DeepXDE) (1.3.1)\n",
      "Requirement already satisfied: pyaml>=16.9 in /home/jupyter/.local/lib/python3.10/site-packages (from scikit-optimize>=0.9.0->DeepXDE) (24.4.0)\n",
      "Requirement already satisfied: packaging>=21.3 in /usr/local/lib/python3.10/dist-packages (from scikit-optimize>=0.9.0->DeepXDE) (23.1)\n",
      "Requirement already satisfied: threadpoolctl>=2.0.0 in /usr/local/lib/python3.10/dist-packages (from scikit-learn->DeepXDE) (3.2.0)\n",
      "Requirement already satisfied: contourpy>=1.0.1 in /usr/local/lib/python3.10/dist-packages (from matplotlib->DeepXDE) (1.1.0)\n",
      "Requirement already satisfied: cycler>=0.10 in /usr/local/lib/python3.10/dist-packages (from matplotlib->DeepXDE) (0.11.0)\n",
      "Requirement already satisfied: fonttools>=4.22.0 in /usr/local/lib/python3.10/dist-packages (from matplotlib->DeepXDE) (4.41.1)\n",
      "Requirement already satisfied: kiwisolver>=1.0.1 in /usr/local/lib/python3.10/dist-packages (from matplotlib->DeepXDE) (1.4.4)\n",
      "Requirement already satisfied: pillow>=6.2.0 in /usr/local/lib/python3.10/dist-packages (from matplotlib->DeepXDE) (9.4.0)\n",
      "Requirement already satisfied: pyparsing>=2.3.1 in /usr/local/lib/python3.10/dist-packages (from matplotlib->DeepXDE) (3.1.0)\n",
      "Requirement already satisfied: python-dateutil>=2.7 in /usr/local/lib/python3.10/dist-packages (from matplotlib->DeepXDE) (2.8.2)\n",
      "Requirement already satisfied: PyYAML in /usr/local/lib/python3.10/dist-packages (from pyaml>=16.9->scikit-optimize>=0.9.0->DeepXDE) (6.0.1)\n",
      "Requirement already satisfied: six>=1.5 in /usr/lib/python3/dist-packages (from python-dateutil>=2.7->matplotlib->DeepXDE) (1.16.0)\n",
      "\n",
      "\u001b[1m[\u001b[0m\u001b[34;49mnotice\u001b[0m\u001b[1;39;49m]\u001b[0m\u001b[39;49m A new release of pip is available: \u001b[0m\u001b[31;49m23.0.1\u001b[0m\u001b[39;49m -> \u001b[0m\u001b[32;49m24.2\u001b[0m\n",
      "\u001b[1m[\u001b[0m\u001b[34;49mnotice\u001b[0m\u001b[1;39;49m]\u001b[0m\u001b[39;49m To update, run: \u001b[0m\u001b[32;49mpython3 -m pip install --upgrade pip\u001b[0m\n"
     ]
    }
   ],
   "source": [
    "pip install DeepXDE"
   ]
  },
  {
   "cell_type": "code",
   "execution_count": 2,
   "metadata": {
    "colab": {
     "base_uri": "https://localhost:8080/"
    },
    "execution": {
     "iopub.execute_input": "2024-08-02T11:16:55.975198Z",
     "iopub.status.busy": "2024-08-02T11:16:55.973946Z",
     "iopub.status.idle": "2024-08-02T11:17:19.397174Z",
     "shell.execute_reply": "2024-08-02T11:17:19.396310Z",
     "shell.execute_reply.started": "2024-08-02T11:16:55.975148Z"
    },
    "id": "XtQuaUZQuz6P",
    "outputId": "739093bf-c9e6-4092-9310-07588be786b0"
   },
   "outputs": [
    {
     "name": "stderr",
     "output_type": "stream",
     "text": [
      "2024-08-02 11:16:57.415738: I tensorflow/core/util/port.cc:110] oneDNN custom operations are on. You may see slightly different numerical results due to floating-point round-off errors from different computation orders. To turn them off, set the environment variable `TF_ENABLE_ONEDNN_OPTS=0`.\n",
      "2024-08-02 11:16:58.966677: I tensorflow/core/platform/cpu_feature_guard.cc:182] This TensorFlow binary is optimized to use available CPU instructions in performance-critical operations.\n",
      "To enable the following instructions: AVX2 AVX512F AVX512_VNNI FMA, in other operations, rebuild TensorFlow with the appropriate compiler flags.\n",
      "2024-08-02 11:17:05.206871: W tensorflow/compiler/tf2tensorrt/utils/py_utils.cc:38] TF-TRT Warning: Could not find TensorRT\n",
      "Using backend: tensorflow.compat.v1\n",
      "Other supported backends: tensorflow, pytorch, jax, paddle.\n",
      "paddle supports more examples now and is recommended.\n"
     ]
    },
    {
     "name": "stdout",
     "output_type": "stream",
     "text": [
      "WARNING:tensorflow:From /usr/local/lib/python3.10/dist-packages/tensorflow/python/compat/v2_compat.py:107: disable_resource_variables (from tensorflow.python.ops.variable_scope) is deprecated and will be removed in a future version.\n",
      "Instructions for updating:\n",
      "non-resource variables are not supported in the long term\n"
     ]
    },
    {
     "name": "stderr",
     "output_type": "stream",
     "text": [
      "Enable just-in-time compilation with XLA.\n",
      "\n"
     ]
    },
    {
     "name": "stdout",
     "output_type": "stream",
     "text": [
      "WARNING:tensorflow:From /home/jupyter/.local/lib/python3.10/site-packages/deepxde/nn/initializers.py:118: The name tf.keras.initializers.he_normal is deprecated. Please use tf.compat.v1.keras.initializers.he_normal instead.\n",
      "\n"
     ]
    }
   ],
   "source": [
    "import numpy as np\n",
    "import deepxde as dde\n",
    "import matplotlib.pyplot as plt\n",
    "from scipy.interpolate import griddata\n",
    "import pandas as pd\n",
    "from IPython.display import display\n",
    "import tensorflow as tf"
   ]
  },
  {
   "cell_type": "code",
   "execution_count": 3,
   "metadata": {
    "execution": {
     "iopub.execute_input": "2024-08-02T11:17:19.399901Z",
     "iopub.status.busy": "2024-08-02T11:17:19.398869Z",
     "iopub.status.idle": "2024-08-02T11:17:19.430110Z",
     "shell.execute_reply": "2024-08-02T11:17:19.429293Z",
     "shell.execute_reply.started": "2024-08-02T11:17:19.399865Z"
    },
    "id": "uHHu0fGUvAwA"
   },
   "outputs": [],
   "source": [
    "x_lower = -25\n",
    "x_upper = 25\n",
    "t_lower = 0\n",
    "t_upper = 1\n",
    "\n",
    "α = 0\n",
    "β = 0\n",
    "\n",
    "α_0 = 0\n",
    "k = 1\n",
    "ω = 0.88\n",
    "x_0 = 0\n",
    "θ_0 = 0\n",
    "μ = 4 * (k ** 2 - ω)\n",
    "\n",
    "x = np.linspace(x_lower, x_upper, 256)\n",
    "t = np.linspace(t_lower, t_upper, 201)\n",
    "X, T = np.meshgrid(x, t)\n",
    "\n",
    "X_star = np.hstack((X.flatten()[:, None], T.flatten()[:, None]))\n",
    "\n",
    "space_domain = dde.geometry.Interval(x_lower, x_upper)\n",
    "time_domain = dde.geometry.TimeDomain(t_lower, t_upper)\n",
    "geomtime = dde.geometry.GeometryXTime(space_domain, time_domain)"
   ]
  },
  {
   "cell_type": "code",
   "execution_count": 4,
   "metadata": {
    "execution": {
     "iopub.execute_input": "2024-08-02T11:17:36.472218Z",
     "iopub.status.busy": "2024-08-02T11:17:36.471012Z",
     "iopub.status.idle": "2024-08-02T11:17:36.502143Z",
     "shell.execute_reply": "2024-08-02T11:17:36.501277Z",
     "shell.execute_reply.started": "2024-08-02T11:17:36.472170Z"
    },
    "id": "dhuHyfO6HPR0"
   },
   "outputs": [],
   "source": [
    "def pde(x, y):\n",
    "    u = y[:, 0:1]\n",
    "    v = y[:, 1:2]\n",
    "\n",
    "    u_t = dde.grad.jacobian(y, x, i=0, j=1)\n",
    "    v_t = dde.grad.jacobian(y, x, i=1, j=1)\n",
    "\n",
    "    u_x = dde.grad.jacobian(y, x, i=0, j=0)\n",
    "    v_x = dde.grad.jacobian(y, x, i=1, j=0)\n",
    "\n",
    "    u_xx = dde.grad.hessian(y, x, component=0, i=0, j=0)\n",
    "    v_xx = dde.grad.hessian(y, x, component=1, i=0, j=0)\n",
    "\n",
    "    # Compute the terms for q = ue^(iv)\n",
    "    q_t_real = u_t * tf.cos(v) - u * v_t * tf.sin(v)\n",
    "    q_t_imag = u_t * tf.sin(v) + u * v_t * tf.cos(v)\n",
    "\n",
    "    q_xx_real = u_xx * tf.cos(v) - 2 * u_x * v_x * tf.sin(v) - u * (v_xx * tf.sin(v) + v_x ** 2 * tf.cos(v))\n",
    "    q_xx_imag = u_xx * tf.sin(v) + 2 * u_x * v_x * tf.cos(v) + u * (v_xx * tf.cos(v) - v_x ** 2 * tf.sin(v))\n",
    "\n",
    "    q_real = u * tf.cos(v)\n",
    "    q_imag = u * tf.sin(v)\n",
    "\n",
    "    abs_q_squared = q_real ** 2 + q_imag ** 2\n",
    "\n",
    "    nonlinear_term = abs_q_squared * (1 - α * abs_q_squared + β * abs_q_squared ** 2)\n",
    "\n",
    "    f_real = - q_t_imag + q_xx_real + q_real * nonlinear_term\n",
    "    f_imag = q_t_real + q_xx_imag + q_imag * nonlinear_term\n",
    "\n",
    "    return [f_real, f_imag]"
   ]
  },
  {
   "cell_type": "code",
   "execution_count": 5,
   "metadata": {
    "execution": {
     "iopub.execute_input": "2024-08-02T11:17:43.828011Z",
     "iopub.status.busy": "2024-08-02T11:17:43.826820Z",
     "iopub.status.idle": "2024-08-02T11:17:43.841208Z",
     "shell.execute_reply": "2024-08-02T11:17:43.840409Z",
     "shell.execute_reply.started": "2024-08-02T11:17:43.827966Z"
    },
    "id": "B4HaTg7WvErw"
   },
   "outputs": [],
   "source": [
    "bc_u_0 = dde.icbc.PeriodicBC(\n",
    "    geomtime, 0, lambda _, on_boundary: on_boundary, derivative_order=0, component=0\n",
    ")\n",
    "bc_u_1 = dde.icbc.PeriodicBC(\n",
    "    geomtime, 0, lambda _, on_boundary: on_boundary, derivative_order=1, component=0\n",
    ")\n",
    "bc_v_0 = dde.icbc.PeriodicBC(\n",
    "    geomtime, 0, lambda _, on_boundary: on_boundary, derivative_order=0, component=1\n",
    ")\n",
    "bc_v_1 = dde.icbc.PeriodicBC(\n",
    "    geomtime, 0, lambda _, on_boundary: on_boundary, derivative_order=1, component=1\n",
    ")"
   ]
  },
  {
   "cell_type": "code",
   "execution_count": 6,
   "metadata": {
    "execution": {
     "iopub.execute_input": "2024-08-02T11:17:47.346795Z",
     "iopub.status.busy": "2024-08-02T11:17:47.345577Z",
     "iopub.status.idle": "2024-08-02T11:17:47.397883Z",
     "shell.execute_reply": "2024-08-02T11:17:47.397035Z",
     "shell.execute_reply.started": "2024-08-02T11:17:47.346746Z"
    },
    "id": "psyIyEfsvJAb"
   },
   "outputs": [],
   "source": [
    "def init_cond_u(x):\n",
    "    exp1 = np.exp(np.float128((x[:, 0:1] - x_0) * np.sqrt(μ)))\n",
    "    exp2 = np.exp(np.float128(2 * (x[:, 0:1] - x_0) * np.sqrt(μ)))\n",
    "\n",
    "    return np.sqrt(μ * exp1 / (\n",
    "                ((1 / 2) * exp1 + 1) * ((1 / 2) * exp1 + 1) - (α_0 * μ / 3) * exp2))\n",
    "\n",
    "\n",
    "def init_cond_v(x):\n",
    "    return k * x[:, 0:1] + θ_0\n",
    "\n",
    "\n",
    "ic_u = dde.icbc.IC(geomtime, init_cond_u, lambda _, on_initial: on_initial, component=0)\n",
    "ic_v = dde.icbc.IC(geomtime, init_cond_v, lambda _, on_initial: on_initial, component=1)"
   ]
  },
  {
   "cell_type": "code",
   "execution_count": 7,
   "metadata": {
    "colab": {
     "base_uri": "https://localhost:8080/"
    },
    "execution": {
     "iopub.execute_input": "2024-08-02T11:17:58.105523Z",
     "iopub.status.busy": "2024-08-02T11:17:58.104360Z",
     "iopub.status.idle": "2024-08-02T11:20:11.096755Z",
     "shell.execute_reply": "2024-08-02T11:20:11.095726Z",
     "shell.execute_reply.started": "2024-08-02T11:17:58.105479Z"
    },
    "id": "iKCzlaBSveFf",
    "outputId": "a223d1c9-3903-45af-b57f-1f159e85970f"
   },
   "outputs": [
    {
     "name": "stdout",
     "output_type": "stream",
     "text": [
      "Compiling model...\n",
      "Building feed-forward neural network...\n",
      "'build' took 0.050937 s\n",
      "\n"
     ]
    },
    {
     "name": "stderr",
     "output_type": "stream",
     "text": [
      "/home/jupyter/.local/lib/python3.10/site-packages/deepxde/nn/tensorflow_compat_v1/fnn.py:116: UserWarning: `tf.layers.dense` is deprecated and will be removed in a future version. Please use `tf.keras.layers.Dense` instead.\n",
      "  return tf.layers.dense(\n",
      "/home/jupyter/.local/lib/python3.10/site-packages/deepxde/nn/tensorflow_compat_v1/fnn.py:116: UserWarning: `tf.layers.dense` is deprecated and will be removed in a future version. Please use `tf.keras.layers.Dense` instead.\n",
      "  return tf.layers.dense(\n",
      "/home/jupyter/.local/lib/python3.10/site-packages/deepxde/nn/tensorflow_compat_v1/fnn.py:116: UserWarning: `tf.layers.dense` is deprecated and will be removed in a future version. Please use `tf.keras.layers.Dense` instead.\n",
      "  return tf.layers.dense(\n",
      "2024-08-02 11:17:58.377800: W tensorflow/core/common_runtime/gpu/gpu_bfc_allocator.cc:47] Overriding orig_value setting because the TF_FORCE_GPU_ALLOW_GROWTH environment variable is set. Original config value was 0.\n",
      "2024-08-02 11:17:58.377851: I tensorflow/core/common_runtime/gpu/gpu_device.cc:1635] Created device /job:localhost/replica:0/task:0/device:GPU:0 with 13944 MB memory:  -> device: 0, name: Tesla T4, pci bus id: 0000:8c:00.0, compute capability: 7.5\n"
     ]
    },
    {
     "name": "stdout",
     "output_type": "stream",
     "text": [
      "'compile' took 1.120459 s\n",
      "\n"
     ]
    },
    {
     "name": "stderr",
     "output_type": "stream",
     "text": [
      "2024-08-02 11:17:59.287789: I tensorflow/compiler/mlir/mlir_graph_optimization_pass.cc:353] MLIR V1 optimization pass is not enabled\n"
     ]
    },
    {
     "name": "stdout",
     "output_type": "stream",
     "text": [
      "Training model...\n",
      "\n"
     ]
    },
    {
     "name": "stderr",
     "output_type": "stream",
     "text": [
      "2024-08-02 11:17:59.633792: I tensorflow/compiler/xla/service/service.cc:169] XLA service 0x7f5fa0019050 initialized for platform CUDA (this does not guarantee that XLA will be used). Devices:\n",
      "2024-08-02 11:17:59.633841: I tensorflow/compiler/xla/service/service.cc:177]   StreamExecutor device (0): Tesla T4, Compute Capability 7.5\n",
      "2024-08-02 11:17:59.888039: I tensorflow/compiler/mlir/tensorflow/utils/dump_mlir_util.cc:269] disabling MLIR crash reproducer, set env var `MLIR_CRASH_REPRODUCER_DIRECTORY` to enable.\n",
      "2024-08-02 11:18:01.182835: I tensorflow/compiler/xla/stream_executor/cuda/cuda_dnn.cc:424] Loaded cuDNN version 8900\n",
      "2024-08-02 11:18:04.936450: I tensorflow/compiler/xla/stream_executor/gpu/asm_compiler.cc:328] ptxas warning : Registers are spilled to local memory in function 'fusion_4', 776 bytes spill stores, 1252 bytes spill loads\n",
      "\n",
      "2024-08-02 11:18:05.116301: I ./tensorflow/compiler/jit/device_compiler.h:180] Compiled cluster using XLA!  This line is logged at most once for the lifetime of the process.\n"
     ]
    },
    {
     "name": "stdout",
     "output_type": "stream",
     "text": [
      "Step      Train loss                                                                          Test loss                                                                           Test metric\n",
      "0         [7.25e-02, 7.44e-03, 1.93e-03, 4.16e-04, 1.23e+00, 4.96e-04, 2.71e-01, 2.64e+02]    [7.25e-02, 7.44e-03, 1.93e-03, 4.16e-04, 1.23e+00, 4.96e-04, 2.71e-01, 2.64e+02]    []  \n",
      "1000      [1.92e-02, 1.89e-02, 3.32e-05, 1.37e-04, 6.93e-01, 2.37e-02, 1.46e-02, 1.16e+01]    [1.92e-02, 1.89e-02, 3.32e-05, 1.37e-04, 6.93e-01, 2.37e-02, 1.46e-02, 1.16e+01]    []  \n",
      "2000      [2.51e-02, 2.45e-02, 6.55e-06, 2.12e-04, 7.80e-01, 3.78e-02, 1.62e-02, 2.93e+00]    [2.51e-02, 2.45e-02, 6.55e-06, 2.12e-04, 7.80e-01, 3.78e-02, 1.62e-02, 2.93e+00]    []  \n",
      "3000      [7.66e-03, 8.35e-03, 3.69e-05, 1.09e-04, 4.38e-02, 5.68e-03, 1.67e-02, 1.71e-01]    [7.66e-03, 8.35e-03, 3.69e-05, 1.09e-04, 4.38e-02, 5.68e-03, 1.67e-02, 1.71e-01]    []  \n",
      "4000      [7.86e-03, 7.07e-03, 3.93e-05, 5.87e-05, 1.85e-02, 1.23e-04, 1.73e-02, 6.39e-02]    [7.86e-03, 7.07e-03, 3.93e-05, 5.87e-05, 1.85e-02, 1.23e-04, 1.73e-02, 6.39e-02]    []  \n",
      "5000      [2.18e-03, 1.95e-03, 3.77e-05, 3.44e-05, 1.00e-02, 1.06e-04, 1.60e-02, 3.40e-02]    [2.18e-03, 1.95e-03, 3.77e-05, 3.44e-05, 1.00e-02, 1.06e-04, 1.60e-02, 3.40e-02]    []  \n",
      "6000      [2.40e-01, 2.61e-01, 2.02e-03, 3.53e-05, 4.65e-03, 9.42e-04, 1.40e-02, 2.08e-02]    [2.40e-01, 2.61e-01, 2.02e-03, 3.53e-05, 4.65e-03, 9.42e-04, 1.40e-02, 2.08e-02]    []  \n",
      "7000      [2.00e-03, 1.94e-03, 2.14e-05, 1.60e-05, 1.50e-03, 2.55e-04, 1.23e-02, 1.17e-02]    [2.00e-03, 1.94e-03, 2.14e-05, 1.60e-05, 1.50e-03, 2.55e-04, 1.23e-02, 1.17e-02]    []  \n",
      "8000      [2.03e-03, 2.06e-03, 1.81e-05, 9.72e-06, 9.86e-04, 3.25e-04, 1.05e-02, 6.56e-03]    [2.03e-03, 2.06e-03, 1.81e-05, 9.72e-06, 9.86e-04, 3.25e-04, 1.05e-02, 6.56e-03]    []  \n",
      "9000      [2.21e-03, 2.22e-03, 2.45e-05, 3.10e-06, 9.01e-04, 5.25e-04, 9.32e-03, 4.03e-03]    [2.21e-03, 2.22e-03, 2.45e-05, 3.10e-06, 9.01e-04, 5.25e-04, 9.32e-03, 4.03e-03]    []  \n",
      "10000     [1.85e-03, 1.86e-03, 7.34e-06, 3.61e-06, 3.77e-04, 3.12e-04, 7.77e-03, 2.78e-03]    [1.85e-03, 1.86e-03, 7.34e-06, 3.61e-06, 3.77e-04, 3.12e-04, 7.77e-03, 2.78e-03]    []  \n",
      "\n",
      "Best model at step 10000:\n",
      "  train loss: 1.50e-02\n",
      "  test loss: 1.50e-02\n",
      "  test metric: []\n",
      "\n",
      "'train' took 60.893431 s\n",
      "\n",
      "Compiling model...\n",
      "'compile' took 0.616615 s\n",
      "\n"
     ]
    },
    {
     "name": "stderr",
     "output_type": "stream",
     "text": [
      "2024-08-02 11:19:00.911495: W tensorflow/compiler/jit/mark_for_compilation_pass.cc:1780] (One-time warning): Not using XLA:CPU for cluster.\n",
      "\n",
      "If you want XLA:CPU, do one of the following:\n",
      "\n",
      " - set the TF_XLA_FLAGS to include \"--tf_xla_cpu_global_jit\", or\n",
      " - set cpu_global_jit to true on this session's OptimizerOptions, or\n",
      " - use experimental_jit_scope, or\n",
      " - use tf.function(jit_compile=True).\n",
      "\n",
      "To confirm that XLA is active, pass --vmodule=xla_compilation_cache=1 (as a\n",
      "proper command-line flag, not via TF_XLA_FLAGS).\n"
     ]
    },
    {
     "name": "stdout",
     "output_type": "stream",
     "text": [
      "Training model...\n",
      "\n",
      "Step      Train loss                                                                          Test loss                                                                           Test metric\n",
      "10000     [1.85e-03, 1.86e-03, 7.34e-06, 3.61e-06, 3.77e-04, 3.12e-04, 7.77e-03, 2.78e-03]    [1.85e-03, 1.86e-03, 7.34e-06, 3.61e-06, 3.77e-04, 3.12e-04, 7.77e-03, 2.78e-03]    []  \n"
     ]
    },
    {
     "name": "stderr",
     "output_type": "stream",
     "text": [
      "2024-08-02 11:19:05.605032: I tensorflow/compiler/xla/stream_executor/gpu/asm_compiler.cc:328] ptxas warning : Registers are spilled to local memory in function 'fusion_37', 676 bytes spill stores, 752 bytes spill loads\n",
      "\n"
     ]
    },
    {
     "name": "stdout",
     "output_type": "stream",
     "text": [
      "11000     [9.85e-04, 1.43e-03, 4.51e-06, 1.73e-05, 2.08e-04, 1.65e-05, 3.62e-03, 6.02e-04]    [9.85e-04, 1.43e-03, 4.51e-06, 1.73e-05, 2.08e-04, 1.65e-05, 3.62e-03, 6.02e-04]        \n",
      "12000     [6.10e-04, 5.86e-04, 1.31e-06, 4.61e-06, 1.58e-04, 9.33e-06, 1.54e-03, 2.09e-04]    [6.10e-04, 5.86e-04, 1.31e-06, 4.61e-06, 1.58e-04, 9.33e-06, 1.54e-03, 2.09e-04]        \n",
      "13000     [3.78e-04, 3.29e-04, 2.84e-07, 9.66e-07, 1.20e-04, 5.42e-06, 9.23e-04, 1.10e-04]    [3.78e-04, 3.29e-04, 2.84e-07, 9.66e-07, 1.20e-04, 5.42e-06, 9.23e-04, 1.10e-04]        \n",
      "14000     [2.63e-04, 2.85e-04, 6.61e-07, 5.64e-07, 9.57e-05, 3.00e-06, 3.01e-04, 8.14e-05]    [2.63e-04, 2.85e-04, 6.61e-07, 5.64e-07, 9.57e-05, 3.00e-06, 3.01e-04, 8.14e-05]        \n",
      "15000     [1.66e-04, 1.39e-04, 6.49e-07, 7.17e-07, 6.84e-05, 2.20e-06, 1.49e-04, 6.82e-05]    [1.66e-04, 1.39e-04, 6.49e-07, 7.17e-07, 6.84e-05, 2.20e-06, 1.49e-04, 6.82e-05]        \n",
      "INFO:tensorflow:Optimization terminated with:\n",
      "  Message: CONVERGENCE: REL_REDUCTION_OF_F_<=_FACTR*EPSMCH\n",
      "  Objective function value: 0.000417\n",
      "  Number of iterations: 5445\n",
      "  Number of functions evaluations: 5771\n",
      "15771     [1.20e-04, 1.00e-04, 7.68e-07, 1.03e-06, 5.71e-05, 4.95e-06, 7.92e-05, 5.40e-05]    [1.20e-04, 1.00e-04, 7.68e-07, 1.03e-06, 5.71e-05, 4.95e-06, 7.92e-05, 5.40e-05]    []  \n",
      "\n",
      "Best model at step 15771:\n",
      "  train loss: 4.17e-04\n",
      "  test loss: 4.17e-04\n",
      "  test metric: []\n",
      "\n",
      "'train' took 70.284016 s\n",
      "\n"
     ]
    },
    {
     "data": {
      "text/plain": [
       "(<deepxde.model.LossHistory at 0x7f60e5d654e0>,\n",
       " <deepxde.model.TrainState at 0x7f60e5d65330>)"
      ]
     },
     "execution_count": 7,
     "metadata": {},
     "output_type": "execute_result"
    }
   ],
   "source": [
    "data = dde.data.TimePDE(\n",
    "    geomtime,\n",
    "    pde,\n",
    "    [bc_u_0, bc_u_1, bc_v_0, bc_v_1, ic_u, ic_v],\n",
    "    num_domain=10000,\n",
    "    num_boundary=20,\n",
    "    num_initial=200,\n",
    "    train_distribution=\"pseudo\",\n",
    ")\n",
    "\n",
    "net = dde.nn.FNN([2] + [100] * 2 + [2], \"sin\", \"Glorot normal\")\n",
    "\n",
    "model = dde.Model(data, net)\n",
    "\n",
    "model.compile(\"adam\", lr=1e-3, loss=\"MSE\")\n",
    "model.train(iterations=10000, display_every=1000)\n",
    "\n",
    "dde.optimizers.config.set_LBFGS_options(\n",
    "    maxcor=50,\n",
    "    ftol=1.0 * np.finfo(float).eps,\n",
    "    gtol=1e-08,\n",
    "    maxiter=10000,\n",
    "    maxfun=10000,\n",
    "    maxls=50,\n",
    ")\n",
    "model.compile(\"L-BFGS\")\n",
    "model.train()"
   ]
  },
  {
   "cell_type": "code",
   "execution_count": 8,
   "metadata": {
    "execution": {
     "iopub.execute_input": "2024-08-02T11:20:21.357508Z",
     "iopub.status.busy": "2024-08-02T11:20:21.356605Z",
     "iopub.status.idle": "2024-08-02T11:20:24.092064Z",
     "shell.execute_reply": "2024-08-02T11:20:24.091146Z",
     "shell.execute_reply.started": "2024-08-02T11:20:21.357465Z"
    },
    "id": "_Sxp79gqviGN"
   },
   "outputs": [],
   "source": [
    "prediction = model.predict(X_star)\n",
    "u = griddata(X_star, prediction[:, 0], (X, T), method=\"cubic\")\n",
    "v = griddata(X_star, prediction[:, 1], (X, T), method=\"cubic\")\n",
    "\n",
    "q_real = u * np.cos(v)\n",
    "q_imag = u * np.sin(v)\n",
    "\n",
    "u = q_real\n",
    "v = q_imag\n",
    "\n",
    "q = np.sqrt(u ** 2 + v ** 2)"
   ]
  },
  {
   "cell_type": "code",
   "execution_count": 9,
   "metadata": {
    "execution": {
     "iopub.execute_input": "2024-08-02T11:20:43.878709Z",
     "iopub.status.busy": "2024-08-02T11:20:43.877537Z",
     "iopub.status.idle": "2024-08-02T11:20:43.911386Z",
     "shell.execute_reply": "2024-08-02T11:20:43.910459Z",
     "shell.execute_reply.started": "2024-08-02T11:20:43.878668Z"
    },
    "id": "fQshWrtlvlib"
   },
   "outputs": [],
   "source": [
    "def u_exact(x, t):\n",
    "    return np.cos(k * x - ω * t + θ_0) * np.sqrt(μ * np.exp((x - 2 * k * t - x_0) * np.sqrt(μ)) / (\n",
    "                ((1 / 2) * np.exp((x - 2 * k * t - x_0) * np.sqrt(μ)) + 1) ** 2 - (α_0 * μ / 3) * np.exp(\n",
    "            2 * (x - 2 * k * t - x_0) * np.sqrt(μ))))\n",
    "\n",
    "\n",
    "def v_exact(x, t):\n",
    "    return np.sin(k * x - ω * t + θ_0) * np.sqrt(μ * np.exp((x - 2 * k * t - x_0) * np.sqrt(μ)) / (\n",
    "            ((1 / 2) * np.exp((x - 2 * k * t - x_0) * np.sqrt(μ)) + 1) ** 2 - (α_0 * μ / 3) * np.exp(\n",
    "        2 * (x - 2 * k * t - x_0) * np.sqrt(μ))))\n",
    "\n",
    "\n",
    "def q_exact(x, t):\n",
    "    return np.sqrt(μ * np.exp((x - 2 * k * t - x_0) * np.sqrt(μ)) / (\n",
    "            ((1 / 2) * np.exp((x - 2 * k * t - x_0) * np.sqrt(μ)) + 1) ** 2 - (α_0 * μ / 3) * np.exp(\n",
    "        2 * (x - 2 * k * t - x_0) * np.sqrt(μ))))"
   ]
  },
  {
   "cell_type": "code",
   "execution_count": 10,
   "metadata": {
    "execution": {
     "iopub.execute_input": "2024-08-02T11:20:55.850714Z",
     "iopub.status.busy": "2024-08-02T11:20:55.849510Z",
     "iopub.status.idle": "2024-08-02T11:20:56.203275Z",
     "shell.execute_reply": "2024-08-02T11:20:56.202383Z",
     "shell.execute_reply.started": "2024-08-02T11:20:55.850667Z"
    },
    "id": "gxNqrs7KvoNL"
   },
   "outputs": [
    {
     "data": {
      "text/html": [
       "<div>\n",
       "<style scoped>\n",
       "    .dataframe tbody tr th:only-of-type {\n",
       "        vertical-align: middle;\n",
       "    }\n",
       "\n",
       "    .dataframe tbody tr th {\n",
       "        vertical-align: top;\n",
       "    }\n",
       "\n",
       "    .dataframe thead th {\n",
       "        text-align: right;\n",
       "    }\n",
       "</style>\n",
       "<table border=\"1\" class=\"dataframe\">\n",
       "  <thead>\n",
       "    <tr style=\"text-align: right;\">\n",
       "      <th></th>\n",
       "      <th>x</th>\n",
       "      <th>t</th>\n",
       "      <th>pred_u</th>\n",
       "      <th>pred_v</th>\n",
       "      <th>pred_h</th>\n",
       "      <th>true_u</th>\n",
       "      <th>true_v</th>\n",
       "      <th>true_h</th>\n",
       "    </tr>\n",
       "  </thead>\n",
       "  <tbody>\n",
       "    <tr>\n",
       "      <th>0</th>\n",
       "      <td>-25.000000</td>\n",
       "      <td>0.0</td>\n",
       "      <td>-0.000010</td>\n",
       "      <td>-0.000002</td>\n",
       "      <td>0.000010</td>\n",
       "      <td>0.000119</td>\n",
       "      <td>0.000016</td>\n",
       "      <td>0.000120</td>\n",
       "    </tr>\n",
       "    <tr>\n",
       "      <th>1</th>\n",
       "      <td>-24.803922</td>\n",
       "      <td>0.0</td>\n",
       "      <td>0.000024</td>\n",
       "      <td>0.000008</td>\n",
       "      <td>0.000026</td>\n",
       "      <td>0.000122</td>\n",
       "      <td>0.000042</td>\n",
       "      <td>0.000129</td>\n",
       "    </tr>\n",
       "    <tr>\n",
       "      <th>2</th>\n",
       "      <td>-24.607843</td>\n",
       "      <td>0.0</td>\n",
       "      <td>0.000033</td>\n",
       "      <td>0.000018</td>\n",
       "      <td>0.000037</td>\n",
       "      <td>0.000119</td>\n",
       "      <td>0.000069</td>\n",
       "      <td>0.000138</td>\n",
       "    </tr>\n",
       "    <tr>\n",
       "      <th>3</th>\n",
       "      <td>-24.411765</td>\n",
       "      <td>0.0</td>\n",
       "      <td>0.000026</td>\n",
       "      <td>0.000022</td>\n",
       "      <td>0.000034</td>\n",
       "      <td>0.000111</td>\n",
       "      <td>0.000097</td>\n",
       "      <td>0.000147</td>\n",
       "    </tr>\n",
       "    <tr>\n",
       "      <th>4</th>\n",
       "      <td>-24.215686</td>\n",
       "      <td>0.0</td>\n",
       "      <td>0.000014</td>\n",
       "      <td>0.000017</td>\n",
       "      <td>0.000022</td>\n",
       "      <td>0.000096</td>\n",
       "      <td>0.000125</td>\n",
       "      <td>0.000158</td>\n",
       "    </tr>\n",
       "    <tr>\n",
       "      <th>...</th>\n",
       "      <td>...</td>\n",
       "      <td>...</td>\n",
       "      <td>...</td>\n",
       "      <td>...</td>\n",
       "      <td>...</td>\n",
       "      <td>...</td>\n",
       "      <td>...</td>\n",
       "      <td>...</td>\n",
       "    </tr>\n",
       "    <tr>\n",
       "      <th>51451</th>\n",
       "      <td>24.215686</td>\n",
       "      <td>1.0</td>\n",
       "      <td>0.000204</td>\n",
       "      <td>-0.000197</td>\n",
       "      <td>0.000284</td>\n",
       "      <td>-0.000141</td>\n",
       "      <td>-0.000614</td>\n",
       "      <td>0.000630</td>\n",
       "    </tr>\n",
       "    <tr>\n",
       "      <th>51452</th>\n",
       "      <td>24.411765</td>\n",
       "      <td>1.0</td>\n",
       "      <td>0.000084</td>\n",
       "      <td>-0.000146</td>\n",
       "      <td>0.000169</td>\n",
       "      <td>-0.000018</td>\n",
       "      <td>-0.000588</td>\n",
       "      <td>0.000589</td>\n",
       "    </tr>\n",
       "    <tr>\n",
       "      <th>51453</th>\n",
       "      <td>24.607843</td>\n",
       "      <td>1.0</td>\n",
       "      <td>-0.000007</td>\n",
       "      <td>0.000024</td>\n",
       "      <td>0.000025</td>\n",
       "      <td>0.000091</td>\n",
       "      <td>-0.000543</td>\n",
       "      <td>0.000550</td>\n",
       "    </tr>\n",
       "    <tr>\n",
       "      <th>51454</th>\n",
       "      <td>24.803922</td>\n",
       "      <td>1.0</td>\n",
       "      <td>-0.000005</td>\n",
       "      <td>0.000309</td>\n",
       "      <td>0.000310</td>\n",
       "      <td>0.000182</td>\n",
       "      <td>-0.000481</td>\n",
       "      <td>0.000514</td>\n",
       "    </tr>\n",
       "    <tr>\n",
       "      <th>51455</th>\n",
       "      <td>25.000000</td>\n",
       "      <td>1.0</td>\n",
       "      <td>0.000145</td>\n",
       "      <td>0.000677</td>\n",
       "      <td>0.000692</td>\n",
       "      <td>0.000254</td>\n",
       "      <td>-0.000407</td>\n",
       "      <td>0.000480</td>\n",
       "    </tr>\n",
       "  </tbody>\n",
       "</table>\n",
       "<p>51456 rows × 8 columns</p>\n",
       "</div>"
      ],
      "text/plain": [
       "               x    t    pred_u  ...    true_u    true_v    true_h\n",
       "0     -25.000000  0.0 -0.000010  ...  0.000119  0.000016  0.000120\n",
       "1     -24.803922  0.0  0.000024  ...  0.000122  0.000042  0.000129\n",
       "2     -24.607843  0.0  0.000033  ...  0.000119  0.000069  0.000138\n",
       "3     -24.411765  0.0  0.000026  ...  0.000111  0.000097  0.000147\n",
       "4     -24.215686  0.0  0.000014  ...  0.000096  0.000125  0.000158\n",
       "...          ...  ...       ...  ...       ...       ...       ...\n",
       "51451  24.215686  1.0  0.000204  ... -0.000141 -0.000614  0.000630\n",
       "51452  24.411765  1.0  0.000084  ... -0.000018 -0.000588  0.000589\n",
       "51453  24.607843  1.0 -0.000007  ...  0.000091 -0.000543  0.000550\n",
       "51454  24.803922  1.0 -0.000005  ...  0.000182 -0.000481  0.000514\n",
       "51455  25.000000  1.0  0.000145  ...  0.000254 -0.000407  0.000480\n",
       "\n",
       "[51456 rows x 8 columns]"
      ]
     },
     "metadata": {},
     "output_type": "display_data"
    }
   ],
   "source": [
    "data_ = {'x': X.flatten(), 't': T.flatten(), 'pred_u': u.flatten(), 'pred_v': v.flatten(), 'pred_h': q.flatten(),\n",
    "        'true_u': u_exact(X, T).flatten(), 'true_v': v_exact(X, T).flatten(), 'true_h': q_exact(X, T).flatten()\n",
    "         }\n",
    "\n",
    "df = pd.DataFrame(data_)\n",
    "df.to_orc('my_data.orc')\n",
    "display(df)"
   ]
  },
  {
   "cell_type": "code",
   "execution_count": 11,
   "metadata": {
    "execution": {
     "iopub.execute_input": "2024-08-02T11:21:00.573764Z",
     "iopub.status.busy": "2024-08-02T11:21:00.572640Z",
     "iopub.status.idle": "2024-08-02T11:21:01.370072Z",
     "shell.execute_reply": "2024-08-02T11:21:01.369018Z",
     "shell.execute_reply.started": "2024-08-02T11:21:00.573720Z"
    },
    "id": "JuSi9XqwvqHx"
   },
   "outputs": [
    {
     "data": {
      "image/png": "[encoded data removed]",
      "text/plain": [
       "<Figure size 640x480 with 6 Axes>"
      ]
     },
     "metadata": {},
     "output_type": "display_data"
    }
   ],
   "source": [
    "fig, ax = plt.subplots(3, 2)\n",
    "\n",
    "plt.suptitle(\"Results\", fontsize=15, x=0.5, y=0.95)\n",
    "\n",
    "ax[0, 0].set_ylabel(\"Real part\")\n",
    "ax[0, 0].imshow(\n",
    "    u.T,\n",
    "    interpolation=\"nearest\",\n",
    "    cmap=\"viridis\",\n",
    "    extent=[t_lower, t_upper, x_lower, x_upper],\n",
    "    origin=\"lower\",\n",
    "    aspect=\"auto\",\n",
    ")\n",
    "ax[1, 0].set_ylabel(\"Imaginary part\")\n",
    "ax[1, 0].imshow(\n",
    "    v.T,\n",
    "    interpolation=\"nearest\",\n",
    "    cmap=\"viridis\",\n",
    "    extent=[t_lower, t_upper, x_lower, x_upper],\n",
    "    origin=\"lower\",\n",
    "    aspect=\"auto\",\n",
    ")\n",
    "ax[2, 0].set_ylabel(\"Amplitude\")\n",
    "ax[2, 0].imshow(\n",
    "    q.T,\n",
    "    interpolation=\"nearest\",\n",
    "    cmap=\"viridis\",\n",
    "    extent=[t_lower, t_upper, x_lower, x_upper],\n",
    "    origin=\"lower\",\n",
    "    aspect=\"auto\",\n",
    ")\n",
    "\n",
    "ax[0, 1].set_ylabel(\"Exact real part\")\n",
    "ax[0, 1].imshow(\n",
    "    u_exact(X, T).T,\n",
    "    interpolation=\"nearest\",\n",
    "    cmap=\"viridis\",\n",
    "    extent=[t_lower, t_upper, x_lower, x_upper],\n",
    "    origin=\"lower\",\n",
    "    aspect=\"auto\",\n",
    ")\n",
    "ax[1, 1].set_ylabel(\"Exact imaginary part\")\n",
    "ax[1, 1].imshow(\n",
    "    v_exact(X, T).T,\n",
    "    interpolation=\"nearest\",\n",
    "    cmap=\"viridis\",\n",
    "    extent=[t_lower, t_upper, x_lower, x_upper],\n",
    "    origin=\"lower\",\n",
    "    aspect=\"auto\",\n",
    ")\n",
    "ax[2, 1].set_ylabel(\"Exact amplitude\")\n",
    "ax[2, 1].imshow(\n",
    "    q_exact(X, T).T,\n",
    "    interpolation=\"nearest\",\n",
    "    cmap=\"viridis\",\n",
    "    extent=[t_lower, t_upper, x_lower, x_upper],\n",
    "    origin=\"lower\",\n",
    "    aspect=\"auto\",\n",
    ")\n",
    "\n",
    "plt.subplots_adjust(wspace=0.5, hspace=0.5)\n",
    "\n",
    "plt.show()"
   ]
  },
  {
   "cell_type": "code",
   "execution_count": null,
   "metadata": {},
   "outputs": [],
   "source": []
  }
 ],
 "metadata": {
  "colab": {
   "provenance": []
  },
  "kernelspec": {
   "display_name": "DataSphere Kernel",
   "language": "python",
   "name": "python3"
  },
  "language_info": {
   "codemirror_mode": {
    "name": "ipython",
    "version": 3
   },
   "file_extension": ".py",
   "mimetype": "text/x-python",
   "name": "python",
   "nbconvert_exporter": "python",
   "pygments_lexer": "ipython3",
   "version": "3.10.12"
  }
 },
 "nbformat": 4,
 "nbformat_minor": 4
}
